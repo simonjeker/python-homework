{
 "cells": [
  {
   "cell_type": "code",
   "execution_count": 74,
   "metadata": {},
   "outputs": [
    {
     "name": "stdout",
     "output_type": "stream",
     "text": [
      "menu items:\n",
      "[['edamame', 'appetizers', 'boiled soybeans, maldon sea salt', '4', '1'], ['house salad', 'appetizers', 'mixed greens, cherry tomatoes, cucumber, house ginger dressing', '4', '2'], ['cucumber sunomono salad', 'appetizers', 'cucumber, ponzu dressing, pickled ginger sproud, sesame seeds', '5', '2'], ['hiyashi wakame seaweed salad', 'appetizers', 'sweet soy-marinated wakame seaweed threads, pickled ginger sprout, sesame seeds', '5', '2'], ['agedashi tofu', 'appetizers', 'tempura battered tofu, katsuobushi, tsuyu broth, scallions', '5', '2'], ['hiyayakko tofu', 'appetizers', 'chilled soft tofu, house shoyu, katsuobushi, ginger, scallions', '5', '2'], ['pork floss bao', 'appetizers', 'two steamed buns, minced lean slow braised niman, ranch pork belly, cucumbers, sriracha mayo', '4', '2'], ['kakuni bao', 'appetizers', 'two steamed buns, chopped fatty slow braised niman ranch pork belly, cucumbers, house bao sauce', '6', '3'], ['edamame fried gyoza (vegan)', 'appetizers', 'six crispy fried edamame and cabbage pot stickers; ponzu rayu dipping sauce', '6', '3'], ['fried gyoza', 'appetizers', 'six cripsy fried pork and vegetable pot stickers; ponzu rayu dipping sauce', '6', '6'], ['takoyaki', 'appetizers', 'six octopus-filled fried fritters, kewpie mayo, okonomi sauce, aonori, katsuobushi, nori', '6', '3'], ['rock shrimp tempura', 'appetizers', 'deep fried tempura battered rock shrimp, sriracha mayo, nisume sauce, aonori, scallions', '6', '3'], ['soft-shell crab tempura', 'appetizers', 'single deep fried soft-shell crab, tsuyu dipping broth', '6', '3'], ['ebi katsu shrimp bao', 'appetizers', 'two steamed buns, panko-crusted fried shrimp patties, yuzu-kosho mayo, aonori, scallions', '6', '3'], ['nagomi shoyu', 'entree', 'shoyu seasoned clear double stock (organic chick broth + house dashi); slow braised niman ranch pork belly, hanjuku tamago, nori, menma, scallions', '11', '5'], ['shio ramen', 'entree', 'sea salt seasoned clear double stock (organic chicken broth + house dashi); slow braised niman ranch pork belly, hanjuku tamago, kikurage, nori, scallions', '11', '5'], ['spicy miso ramen', 'entree', 'house togarashi miso blend + niman ranch pork bone stock; slow braised niman ranch pork belly, hanjuku tamago, kikurage, nori, scallions', '12', '5'], ['vegetarian spicy miso', 'entree', 'house togarashi miso blend + vegan dashi; tempura fried tofu, sweet corn, edamame, kikurage, nori, scallions; organic soy milk upon request', '12', '5'], ['miso crab ramen', 'entree', 'house miso crab blend + vegan dashi; slow braised niman ranch pork belly, crab meat, hanjuku tamago, kikurage, nori, scallions', '12', '6'], ['soft-shell miso crab ramen', 'entree', 'house miso crab blend + vegan dashi; fried whole soft-shell crab, hanjuku tamago, kikurage, nori, scallions', '14', '7'], ['tori paitan ramen', 'entree', 'rich, shoyu seasoned double stock (organic chicken broth + house dashi); slow braised niman ranch pork belly, hanuku tamago, kikurage, nori, scllaions', '13', '6'], ['tonkotsu ramen', 'entree', 'rich, shoyi seasoned niman ranch pork bone stock; slow braised niman ranch pork belly, hanjuku tamago, kikurage, nori, spring radish, scallions', '13', '6'], ['burnt garlic tonkotsu ramen', 'entree', 'rich, shoyi and burnt garlic seasoned niman ranch pork bone stock; slow braised niman ranch pork belly, hanjuku tamago, kikurage, sweet corn, nori, scallions', '14', '6'], ['vegetarian curry + king trumpet mushroom ramen', 'entree', 'house curry blend + vegan dashi; fried king trumpet mushroom, tempura fried tofu, mung bean sprouts, kikurage, nori, scallions', '13', '7'], ['truffle butter ramen', 'entree', 'rich, shoyu seasoned niman ranch prok bone stock; truffle compound butter, slow braised niman ranch pork belly, kikurage, sweet corn, nori, scallions', '14', '7'], ['green tea', 'drinks', 'green tea', '2.5', '1'], ['coke', 'drinks', 'Coca Cola soda', '2', '1'], ['black sesame ice cream', 'desserts', 'house-made black sesame ice cream, valrhona chocolate threads, complimentary hojicha', '5', '2'], ['matcha ice cream', 'desserts', 'house-made matcha ice cream, white chocolate pearls; complimentary hojicha', '5', '2'], ['mango mochi ice cream', 'desserts', 'two rice-cake bonbons filled with strawberry ice cream; complimentary hojicha', '5', '2'], ['strawberry mochi ice cream', 'desserts', 'two rice-cake bonbons filled with strawberry ice cream; complimentary hojicha', '5', '2'], ['black sesame creme brulee', 'desserts', 'house made black sesame infused creme brulee; complimentary hojicha', '6', '3']]\n",
      "sales:\n",
      "['1', '01-01-2017', '7437926611570799', '1', 'spicy miso ramen']\n",
      "Report:\n",
      "{'spicy miso ramen': {'01-count': 9237, '02-revenue': 110844, '03-cogs': 46185, '04-profit': 64659}, 'tori paitan ramen': {'01-count': 9153, '02-revenue': 118989, '03-cogs': 54918, '04-profit': 64071}, 'truffle butter ramen': {'01-count': 8981, '02-revenue': 125734, '03-cogs': 62867, '04-profit': 62867}, 'tonkotsu ramen': {'01-count': 9287, '02-revenue': 120731, '03-cogs': 55722, '04-profit': 65009}, 'vegetarian spicy miso': {'01-count': 9215, '02-revenue': 110580, '03-cogs': 46075, '04-profit': 64505}, 'shio ramen': {'01-count': 9179, '02-revenue': 100969, '03-cogs': 45895, '04-profit': 55074}, 'miso crab ramen': {'01-count': 8886, '02-revenue': 106632, '03-cogs': 53316, '04-profit': 53316}, 'nagomi shoyu': {'01-count': 9131, '02-revenue': 100441, '03-cogs': 45655, '04-profit': 54786}, 'soft-shell miso crab ramen': {'01-count': 9129, '02-revenue': 127806, '03-cogs': 63903, '04-profit': 63903}, 'burnt garlic tonkotsu ramen': {'01-count': 9069, '02-revenue': 126966, '03-cogs': 54414, '04-profit': 72552}, 'vegetarian curry + king trumpet mushroom ramen': {'01-count': 8823, '02-revenue': 114699, '03-cogs': 61761, '04-profit': 52938}}\n"
     ]
    }
   ],
   "source": [
    "import os\n",
    "import csv\n",
    "\n",
    "csvpath = os.path.join(\"..\", \"Resources\", \"menu_data.csv\")\n",
    "\n",
    "menu = []\n",
    "with open(csvpath, newline=\"\") as csvfile:\n",
    "    csvreader = csv.reader(csvfile, delimiter=\",\")\n",
    "\n",
    "    csv_header = next(csvreader)\n",
    "    \n",
    "     # add each menu item to list\n",
    "    for line in csvreader:\n",
    "        menu.append(line)\n",
    "\n",
    "print(\"menu items:\");\n",
    "print(menu)\n",
    "\n",
    "    \n",
    "        \n",
    "        \n",
    "csvpath = os.path.join(\"..\", \"Resources\", \"sales_data.csv\")\n",
    "sales = []\n",
    "with open(csvpath, newline=\"\") as csvfile:\n",
    "    csvreader = csv.reader(csvfile, delimiter=\",\")\n",
    "\n",
    "    csv_header = next(csvreader)\n",
    "     # add each menu item to list\n",
    "    for line in csvreader:\n",
    "        sales.append(line)\n",
    "print(\"sales:\")        \n",
    "print(sales[0])\n",
    "\n",
    "\n",
    "\n",
    "\n",
    "total_report = {}\n",
    "\n",
    "for transaction in sales:\n",
    "    report = {\n",
    "        \"01-count\": 0,\n",
    "        \"02-revenue\": 0,\n",
    "        \"03-cogs\": 0,\n",
    "        \"04-profit\": 0,\n",
    "        }\n",
    "\n",
    "    quantity = int(transaction[3])\n",
    "    menu_item = transaction[4]\n",
    "    if menu_item in total_report:\n",
    "        for item in menu:\n",
    "            if menu_item == item[0]:\n",
    "                price = int(item[3])\n",
    "                cost = int(item[4])\n",
    "                profit = price - cost\n",
    "                total_report[menu_item][\"01-count\"] += quantity\n",
    "                total_report[menu_item][\"02-revenue\"] += price * quantity\n",
    "                total_report[menu_item][\"03-cogs\"] += cost * quantity\n",
    "                total_report[menu_item][\"04-profit\"] += profit * quantity\n",
    "\n",
    "        \n",
    "        \n",
    "    else:\n",
    "        total_report[menu_item] = report\n",
    "print(\"Report:\")            \n",
    "print(total_report)\n",
    " \n",
    "       \n",
    "\n",
    "\n",
    "    \n",
    "    \n",
    "        \n"
   ]
  },
  {
   "cell_type": "code",
   "execution_count": 35,
   "metadata": {},
   "outputs": [
    {
     "data": {
      "text/plain": [
       "_csv.reader"
      ]
     },
     "execution_count": 35,
     "metadata": {},
     "output_type": "execute_result"
    }
   ],
   "source": []
  },
  {
   "cell_type": "code",
   "execution_count": null,
   "metadata": {},
   "outputs": [],
   "source": []
  }
 ],
 "metadata": {
  "kernelspec": {
   "display_name": "Python 3",
   "language": "python",
   "name": "python3"
  },
  "language_info": {
   "codemirror_mode": {
    "name": "ipython",
    "version": 3
   },
   "file_extension": ".py",
   "mimetype": "text/x-python",
   "name": "python",
   "nbconvert_exporter": "python",
   "pygments_lexer": "ipython3",
   "version": "3.8.3"
  }
 },
 "nbformat": 4,
 "nbformat_minor": 4
}
