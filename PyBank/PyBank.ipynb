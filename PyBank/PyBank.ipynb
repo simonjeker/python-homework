{
 "cells": [
  {
   "cell_type": "code",
   "execution_count": 29,
   "metadata": {},
   "outputs": [],
   "source": [
    "import datetime\n",
    "import os\n",
    "from pathlib import Path\n",
    "import csv\n"
   ]
  },
  {
   "cell_type": "code",
   "execution_count": 72,
   "metadata": {},
   "outputs": [
    {
     "name": "stdout",
     "output_type": "stream",
     "text": [
      "Total Months: 86\n",
      "Total: $38382578\n",
      "Average  Change: $-2315.1176470588234\n",
      "Greatest Increase in Profits: Feb-2012 ($1926159)\n",
      "Greatest Decrease in Profits: Sep-2013 ($-2196167)\n"
     ]
    }
   ],
   "source": [
    "csvpath = Path('../PyBank/graded_homework_02-Python_Instructions_PyBank_Resources_budget_data.csv')\n",
    "\n",
    "budget_data = []\n",
    "\n",
    "with open(csvpath, 'r') as csvfile:\n",
    "    csvreader = csv.reader(csvfile, delimiter=',')\n",
    "\n",
    "    csv_header = next(csvreader)\n",
    "    total = 0\n",
    "    row_count = 0\n",
    "    current_month = 867884\n",
    "    last_month = 867884\n",
    "    sum_change = 0\n",
    "    profits = {\n",
    "        \"greatest\": 0,\n",
    "        \"least\": 0,\n",
    "        \"least_date\": 0,\n",
    "        \"greatest_date\": 0,\n",
    "        \"previous_max\": 0,\n",
    "        \"previous_min\": 0 \n",
    "        }\n",
    "    \n",
    "\n",
    "    for row in csvreader:\n",
    "        total = total + int(row[1])\n",
    "        row_count = row_count +1\n",
    "        current_month = int(row[1])\n",
    "        change = current_month - last_month\n",
    "        last_month = current_month\n",
    "        sum_change = sum_change + change\n",
    "        if change > profits['previous_max']:\n",
    "            profits['previous_max'] = change\n",
    "            profits['greatest'] = change\n",
    "            profits ['greatest_date'] = row[0]\n",
    "        if change < profits[\"previous_min\"]:\n",
    "            profits['previous_min'] = change\n",
    "            profits['least'] = change\n",
    "            profits['least_date'] = row[0]\n",
    "        \n",
    "    change_count = row_count -1\n",
    "    print ('Total Months: ' + str(row_count))\n",
    "    print ('Total: $' + str(total))\n",
    "    print ('Average  Change: $' + str(sum_change / change_count))\n",
    "    print(\"Greatest Increase in Profits: \" + profits ['greatest_date'] + \" ($\" + str(profits['greatest'])+ \")\")\n",
    "    print(\"Greatest Decrease in Profits: \" + profits ['least_date'] + \" ($\" + str(profits['least'])+ \")\")    \n"
   ]
  },
  {
   "cell_type": "code",
   "execution_count": 56,
   "metadata": {},
   "outputs": [
    {
     "name": "stdout",
     "output_type": "stream",
     "text": [
      "86\n"
     ]
    }
   ],
   "source": [
    "\n",
    "\n",
    "end_date = datetime.datetime(2017,2,1)\n",
    "start_date = datetime.datetime(2010,1,1)\n",
    "num_months = (end_date.year - start_date.year) * 12 + (end_date.month - start_date.month) +1\n",
    "print(num_months)"
   ]
  },
  {
   "cell_type": "code",
   "execution_count": 38,
   "metadata": {},
   "outputs": [
    {
     "name": "stdout",
     "output_type": "stream",
     "text": [
      "71\n"
     ]
    }
   ],
   "source": [
    "profit_losses = "
   ]
  },
  {
   "cell_type": "code",
   "execution_count": null,
   "metadata": {},
   "outputs": [],
   "source": []
  }
 ],
 "metadata": {
  "kernelspec": {
   "display_name": "Python 3",
   "language": "python",
   "name": "python3"
  },
  "language_info": {
   "codemirror_mode": {
    "name": "ipython",
    "version": 3
   },
   "file_extension": ".py",
   "mimetype": "text/x-python",
   "name": "python",
   "nbconvert_exporter": "python",
   "pygments_lexer": "ipython3",
   "version": "3.8.3"
  }
 },
 "nbformat": 4,
 "nbformat_minor": 4
}
